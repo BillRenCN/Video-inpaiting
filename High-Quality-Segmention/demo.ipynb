{
 "cells": [
  {
   "cell_type": "code",
   "execution_count": 1,
   "metadata": {},
   "outputs": [],
   "source": [
    "%reload_ext autoreload\n",
    "%autoreload 2"
   ]
  },
  {
   "cell_type": "code",
   "execution_count": 2,
   "metadata": {},
   "outputs": [],
   "source": [
    "import torch\n",
    "import torch.nn as nn\n",
    "from torch.utils.data import DataLoader\n",
    "import torch.nn.functional as F\n",
    "import progressbar\n",
    "import cv2\n",
    "\n",
    "from models.network.crm_transferCoord_transferFeat import CRMNet\n",
    "from dataset import OfflineDataset_crm_pad32 as OfflineDataset\n",
    "from dataset import SplitTransformDataset\n",
    "from util.image_saver_crm import tensor_to_im, tensor_to_gray_im, tensor_to_seg\n",
    "from util.hyper_para import HyperParameters\n",
    "from eval_helper_crm import process_high_res_im, process_im_single_pass\n",
    "\n",
    "import os\n",
    "from os import path\n",
    "from argparse import ArgumentParser\n",
    "import time"
   ]
  },
  {
   "cell_type": "code",
   "execution_count": 3,
   "metadata": {},
   "outputs": [
    {
     "data": {
      "text/plain": [
       "'/home/bill/Documents/Research/HighQualitySegmetation/Entity/High-Quality-Segmention'"
      ]
     },
     "execution_count": 3,
     "metadata": {},
     "output_type": "execute_result"
    }
   ],
   "source": [
    "%pwd"
   ]
  },
  {
   "cell_type": "code",
   "execution_count": 4,
   "metadata": {},
   "outputs": [
    {
     "name": "stdout",
     "output_type": "stream",
     "text": [
      "0 images found\n"
     ]
    }
   ],
   "source": [
    "val_dataset = OfflineDataset('testIn', need_name=True, resize=False, do_crop=False, padding=True)"
   ]
  },
  {
   "cell_type": "code",
   "execution_count": null,
   "metadata": {},
   "outputs": [],
   "source": []
  }
 ],
 "metadata": {
  "kernelspec": {
   "display_name": "crm_segmentation",
   "language": "python",
   "name": "python3"
  },
  "language_info": {
   "codemirror_mode": {
    "name": "ipython",
    "version": 3
   },
   "file_extension": ".py",
   "mimetype": "text/x-python",
   "name": "python",
   "nbconvert_exporter": "python",
   "pygments_lexer": "ipython3",
   "version": "3.9.19"
  }
 },
 "nbformat": 4,
 "nbformat_minor": 2
}
